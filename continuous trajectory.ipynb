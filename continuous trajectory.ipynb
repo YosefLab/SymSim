{
 "cells": [
  {
   "cell_type": "code",
   "execution_count": 2,
   "metadata": {
    "collapsed": false
   },
   "outputs": [
    {
     "name": "stderr",
     "output_type": "stream",
     "text": [
      "Loading required package: maps\n",
      "Loading required package: devtools\n",
      "Loading required package: FNN\n",
      "Loading required package: reshape\n",
      "Loading required package: ggplot2\n",
      "Loading required package: gridExtra\n",
      "Loading required package: MASS\n",
      "Loading required package: Rtsne\n",
      "Loading required package: RColorBrewer\n",
      "Loading required package: fAsianOptions\n",
      "Loading required package: timeDate\n",
      "Loading required package: timeSeries\n",
      "Loading required package: fBasics\n",
      "\n",
      "\n",
      "Rmetrics Package fBasics\n",
      "Analysing Markets and calculating Basic Statistics\n",
      "Copyright (C) 2005-2014 Rmetrics Association Zurich\n",
      "Educational Software for Financial Engineering and Computational Science\n",
      "Rmetrics is free software and comes with ABSOLUTELY NO WARRANTY.\n",
      "https://www.rmetrics.org --- Mail to: info@rmetrics.org\n",
      "Loading required package: fOptions\n",
      "\n",
      "\n",
      "Rmetrics Package fOptions\n",
      "Pricing and Evaluating Basic Options\n",
      "Copyright (C) 2005-2014 Rmetrics Association Zurich\n",
      "Educational Software for Financial Engineering and Computational Science\n",
      "Rmetrics is free software and comes with ABSOLUTELY NO WARRANTY.\n",
      "https://www.rmetrics.org --- Mail to: info@rmetrics.org\n",
      "Loading required package: Biobase\n",
      "Loading required package: BiocGenerics\n",
      "Loading required package: parallel\n",
      "\n",
      "Attaching package: ‘BiocGenerics’\n",
      "\n",
      "The following objects are masked from ‘package:parallel’:\n",
      "\n",
      "    clusterApply, clusterApplyLB, clusterCall, clusterEvalQ,\n",
      "    clusterExport, clusterMap, parApply, parCapply, parLapply,\n",
      "    parLapplyLB, parRapply, parSapply, parSapplyLB\n",
      "\n",
      "The following objects are masked from ‘package:timeSeries’:\n",
      "\n",
      "    as.data.frame, colMeans, colnames, colSums, is.unsorted, rank,\n",
      "    rownames, sort\n",
      "\n",
      "The following object is masked from ‘package:gridExtra’:\n",
      "\n",
      "    combine\n",
      "\n",
      "The following objects are masked from ‘package:stats’:\n",
      "\n",
      "    IQR, mad, sd, var, xtabs\n",
      "\n",
      "The following objects are masked from ‘package:base’:\n",
      "\n",
      "    anyDuplicated, append, as.data.frame, cbind, colMeans, colnames,\n",
      "    colSums, do.call, duplicated, eval, evalq, Filter, Find, get, grep,\n",
      "    grepl, intersect, is.unsorted, lapply, lengths, Map, mapply, match,\n",
      "    mget, order, paste, pmax, pmax.int, pmin, pmin.int, Position, rank,\n",
      "    rbind, Reduce, rowMeans, rownames, rowSums, sapply, setdiff, sort,\n",
      "    table, tapply, union, unique, unsplit, which, which.max, which.min\n",
      "\n",
      "Welcome to Bioconductor\n",
      "\n",
      "    Vignettes contain introductory material; view with\n",
      "    'browseVignettes()'. To cite Bioconductor, see\n",
      "    'citation(\"Biobase\")', and for packages 'citation(\"pkgname\")'.\n",
      "\n",
      "\n",
      "Attaching package: ‘Biobase’\n",
      "\n",
      "The following object is masked from ‘package:timeSeries’:\n",
      "\n",
      "    description\n",
      "\n",
      "Loading required package: repr\n",
      "Loading SCsim\n"
     ]
    }
   ],
   "source": [
    "homedir <- '/Users/chenlingantelope/ResearchProjects/scRNA_simulation/'\n",
    "setwd(homedir)\n",
    "required_packages <- c('devtools','FNN','reshape','ggplot2','gridExtra','ape','MASS','Rtsne','RColorBrewer','fAsianOptions','fOptions','fBasics','timeSeries','timeDate','Biobase','repr' )\n",
    "install_packages <- rownames(installed.packages())\n",
    "need_install <- setdiff(required_packages,install_packages)\n",
    "if(length(need_install)>0){install.packages(need_install)}\n",
    "library('ape')\n",
    "library('phytools')\n",
    "load_result <- lapply(required_packages, require, character.only = TRUE)\n",
    "\n",
    "load('allsim.20170706.robj')\n",
    "load('match_params.robj')\n",
    "\n",
    "load_all('SCsimR')\n",
    "options(repr.plot.width=5, repr.plot.height=4)\n",
    "ngenes=1000\n",
    "ncells=1000\n",
    "nevf=10\n",
    "randseed=0\n"
   ]
  },
  {
   "cell_type": "code",
   "execution_count": 8,
   "metadata": {
    "collapsed": false
   },
   "outputs": [
    {
     "data": {
      "image/png": "[encoded data removed]",
      "text/plain": [
       "plot without title"
      ]
     },
     "metadata": {},
     "output_type": "display_data"
    }
   ],
   "source": [
    "source('ContinuousTree.R')\n",
    "ncells <- 10000\n",
    "ntips <- 10\n",
    "Sigma <- 1\n",
    "evfs_wimpuls <- ImpulseEVF(5,Sigma)"
   ]
  },
  {
   "cell_type": "code",
   "execution_count": 9,
   "metadata": {
    "collapsed": false
   },
   "outputs": [],
   "source": [
    "evf1 <- evfs_wimpuls[[1]]\n",
    "ncells <- length(evf1[,1])"
   ]
  },
  {
   "cell_type": "code",
   "execution_count": 10,
   "metadata": {
    "collapsed": false
   },
   "outputs": [],
   "source": [
    "evf_mean <- rep(0,5)\n",
    "evf_sd <- rep(1,5)\n",
    "bimod <- 0.5\n",
    "evf2<- lapply(c(1:length(evf_mean)),function(evfi){\n",
    "    lapply(c(1:ncells),function(celli){\n",
    "        evf <- sapply(c(1:length(evf_mean)),function(evfi){rnorm(1,evf_mean[evfi],evf_sd[evfi])})\n",
    "        return(evf)\n",
    "    })\n",
    "})\n",
    "evf2 <- do.call(cbind,evf2)"
   ]
  },
  {
   "cell_type": "code",
   "execution_count": 11,
   "metadata": {
    "collapsed": false
   },
   "outputs": [],
   "source": [
    "evfs <- cbind(evf1[,4],evf2)"
   ]
  },
  {
   "cell_type": "code",
   "execution_count": 12,
   "metadata": {
    "collapsed": false
   },
   "outputs": [],
   "source": [
    "gene_effects <- GeneEffects(ngenes=ngenes,nevf=6,randseed=0,sd=1,prob=0.3)"
   ]
  },
  {
   "cell_type": "code",
   "execution_count": 22,
   "metadata": {
    "collapsed": false
   },
   "outputs": [
    {
     "data": {
      "text/html": [
       "<ol class=list-inline>\n",
       "\t<li>1000</li>\n",
       "\t<li>6</li>\n",
       "</ol>\n"
      ],
      "text/latex": [
       "\\begin{enumerate*}\n",
       "\\item 1000\n",
       "\\item 6\n",
       "\\end{enumerate*}\n"
      ],
      "text/markdown": [
       "1. 1000\n",
       "2. 6\n",
       "\n",
       "\n"
      ],
      "text/plain": [
       "[1] 1000    6"
      ]
     },
     "metadata": {},
     "output_type": "display_data"
    },
    {
     "data": {
      "text/html": [
       "<ol class=list-inline>\n",
       "\t<li>10007</li>\n",
       "\t<li>6</li>\n",
       "</ol>\n"
      ],
      "text/latex": [
       "\\begin{enumerate*}\n",
       "\\item 10007\n",
       "\\item 6\n",
       "\\end{enumerate*}\n"
      ],
      "text/markdown": [
       "1. 10007\n",
       "2. 6\n",
       "\n",
       "\n"
      ],
      "text/plain": [
       "[1] 10007     6"
      ]
     },
     "metadata": {},
     "output_type": "display_data"
    },
    {
     "data": {
      "text/html": [
       "'matrix'"
      ],
      "text/latex": [
       "'matrix'"
      ],
      "text/markdown": [
       "'matrix'"
      ],
      "text/plain": [
       "[1] \"matrix\""
      ]
     },
     "metadata": {},
     "output_type": "display_data"
    },
    {
     "data": {
      "text/html": [
       "<table>\n",
       "<tbody>\n",
       "\t<tr><td>0.2033492                                                         </td><td>0.97596307, 0.15162986, 1.49073114, 0.04939074, -0.43018409       </td><td>0.2490513, -0.3668392, 0.2801381, -0.6211905, -0.4010516          </td><td>1.396161709, -0.960835043, 0.733868761, -0.004301402, -0.034578012</td><td>-0.3580763, -0.6112448, -1.4939213, -0.8556414, 3.1020184         </td><td>0.7108090, -0.9025279, 0.9401624, 0.6329699, 0.4623659            </td></tr>\n",
       "\t<tr><td>0.203501                                                 </td><td>0.3409891, 0.5480757, 2.0354081, -1.5990050, 1.2842210   </td><td>-0.6683215, -0.9962549, 0.3738032, 0.9282107, 1.4957200  </td><td>-1.4653373, -0.9875277, -0.3490980, 2.6033322, -3.0116385</td><td>1.1873208, -1.8096873, -0.8614765, 0.5112874, 0.8775819  </td><td>0.7549890, -0.7363418, 0.5359445, 1.5544757, 0.6877708   </td></tr>\n",
       "\t<tr><td>0.2039327                                                  </td><td>-0.4921929, 0.5596704, -2.2880588, 0.9115954, -0.3547244   </td><td>-0.6043283, 0.4612238, -0.8304730, -0.3750689, -0.4836119  </td><td>-1.3324006, 0.3606054, 1.3113741, 1.6804546, -0.1882245    </td><td>-0.9776334, 0.3075954, -0.4311832, -0.1198652, 0.6742864   </td><td>0.03726825, -1.33407938, 1.59735328, 0.07013639, 1.72417425</td></tr>\n",
       "\t<tr><td>0.2042557                                                       </td><td>1.4298713, -2.2612819, 2.1293359, 0.5231506, -0.2156310         </td><td>1.1449252, 0.9940431, -0.1207337, -0.6879993, -0.7497205        </td><td>-1.077310037, 0.600160799, 0.450025825, 1.126058706, 0.001919053</td><td>-0.65559077, -1.16904208, 0.55412910, -0.71204248, -0.08090824  </td><td>-0.7054435, -0.1142400, 0.5024900, 1.1079893, 1.4223279         </td></tr>\n",
       "\t<tr><td>0.2043065                                                     </td><td>0.1604635, 0.4735367, -0.1664596, 1.8497341, -0.5902492       </td><td>0.64684430, -0.13806687, -0.21981174, -0.01664738, -2.14318897</td><td>-1.4602234, 0.4803844, -0.6264879, 2.0981591, -0.1555205      </td><td>-0.4510154, 0.8040467, -0.2943782, -0.6763046, -0.8030963     </td><td>-0.5699665, -1.2535561, 2.3002971, 0.5722625, 0.3504708       </td></tr>\n",
       "\t<tr><td>0.2046097                                                    </td><td>-0.4851246, -1.3676415, -1.5249722, 0.8968871, -1.3517274    </td><td>-0.4607476, 1.4811136, -1.1571055, -1.4621360, -1.0657535    </td><td>-0.8202498, -1.0204941, -0.4586710, 0.4665742, 0.8073561     </td><td>1.69396962, -0.22675327, -0.53505930, -1.26878245, 0.03167724</td><td>0.4160046, -0.2670632, -1.4143935, 1.3232394, 0.8299809      </td></tr>\n",
       "</tbody>\n",
       "</table>\n"
      ],
      "text/latex": [
       "\\begin{tabular}{llllll}\n",
       "\t 0.2033492                                                          & 0.97596307, 0.15162986, 1.49073114, 0.04939074, -0.43018409        & 0.2490513, -0.3668392, 0.2801381, -0.6211905, -0.4010516           & 1.396161709, -0.960835043, 0.733868761, -0.004301402, -0.034578012 & -0.3580763, -0.6112448, -1.4939213, -0.8556414, 3.1020184          & 0.7108090, -0.9025279, 0.9401624, 0.6329699, 0.4623659            \\\\\n",
       "\t 0.203501                                                  & 0.3409891, 0.5480757, 2.0354081, -1.5990050, 1.2842210    & -0.6683215, -0.9962549, 0.3738032, 0.9282107, 1.4957200   & -1.4653373, -0.9875277, -0.3490980, 2.6033322, -3.0116385 & 1.1873208, -1.8096873, -0.8614765, 0.5112874, 0.8775819   & 0.7549890, -0.7363418, 0.5359445, 1.5544757, 0.6877708   \\\\\n",
       "\t 0.2039327                                                   & -0.4921929, 0.5596704, -2.2880588, 0.9115954, -0.3547244    & -0.6043283, 0.4612238, -0.8304730, -0.3750689, -0.4836119   & -1.3324006, 0.3606054, 1.3113741, 1.6804546, -0.1882245     & -0.9776334, 0.3075954, -0.4311832, -0.1198652, 0.6742864    & 0.03726825, -1.33407938, 1.59735328, 0.07013639, 1.72417425\\\\\n",
       "\t 0.2042557                                                        & 1.4298713, -2.2612819, 2.1293359, 0.5231506, -0.2156310          & 1.1449252, 0.9940431, -0.1207337, -0.6879993, -0.7497205         & -1.077310037, 0.600160799, 0.450025825, 1.126058706, 0.001919053 & -0.65559077, -1.16904208, 0.55412910, -0.71204248, -0.08090824   & -0.7054435, -0.1142400, 0.5024900, 1.1079893, 1.4223279         \\\\\n",
       "\t 0.2043065                                                      & 0.1604635, 0.4735367, -0.1664596, 1.8497341, -0.5902492        & 0.64684430, -0.13806687, -0.21981174, -0.01664738, -2.14318897 & -1.4602234, 0.4803844, -0.6264879, 2.0981591, -0.1555205       & -0.4510154, 0.8040467, -0.2943782, -0.6763046, -0.8030963      & -0.5699665, -1.2535561, 2.3002971, 0.5722625, 0.3504708       \\\\\n",
       "\t 0.2046097                                                     & -0.4851246, -1.3676415, -1.5249722, 0.8968871, -1.3517274     & -0.4607476, 1.4811136, -1.1571055, -1.4621360, -1.0657535     & -0.8202498, -1.0204941, -0.4586710, 0.4665742, 0.8073561      & 1.69396962, -0.22675327, -0.53505930, -1.26878245, 0.03167724 & 0.4160046, -0.2670632, -1.4143935, 1.3232394, 0.8299809      \\\\\n",
       "\\end{tabular}\n"
      ],
      "text/markdown": [
       "\n",
       "| 0.2033492                                                          | 0.97596307, 0.15162986, 1.49073114, 0.04939074, -0.43018409        | 0.2490513, -0.3668392, 0.2801381, -0.6211905, -0.4010516           | 1.396161709, -0.960835043, 0.733868761, -0.004301402, -0.034578012 | -0.3580763, -0.6112448, -1.4939213, -0.8556414, 3.1020184          | 0.7108090, -0.9025279, 0.9401624, 0.6329699, 0.4623659             | \n",
       "| 0.203501                                                  | 0.3409891, 0.5480757, 2.0354081, -1.5990050, 1.2842210    | -0.6683215, -0.9962549, 0.3738032, 0.9282107, 1.4957200   | -1.4653373, -0.9875277, -0.3490980, 2.6033322, -3.0116385 | 1.1873208, -1.8096873, -0.8614765, 0.5112874, 0.8775819   | 0.7549890, -0.7363418, 0.5359445, 1.5544757, 0.6877708    | \n",
       "| 0.2039327                                                   | -0.4921929, 0.5596704, -2.2880588, 0.9115954, -0.3547244    | -0.6043283, 0.4612238, -0.8304730, -0.3750689, -0.4836119   | -1.3324006, 0.3606054, 1.3113741, 1.6804546, -0.1882245     | -0.9776334, 0.3075954, -0.4311832, -0.1198652, 0.6742864    | 0.03726825, -1.33407938, 1.59735328, 0.07013639, 1.72417425 | \n",
       "| 0.2042557                                                        | 1.4298713, -2.2612819, 2.1293359, 0.5231506, -0.2156310          | 1.1449252, 0.9940431, -0.1207337, -0.6879993, -0.7497205         | -1.077310037, 0.600160799, 0.450025825, 1.126058706, 0.001919053 | -0.65559077, -1.16904208, 0.55412910, -0.71204248, -0.08090824   | -0.7054435, -0.1142400, 0.5024900, 1.1079893, 1.4223279          | \n",
       "| 0.2043065                                                      | 0.1604635, 0.4735367, -0.1664596, 1.8497341, -0.5902492        | 0.64684430, -0.13806687, -0.21981174, -0.01664738, -2.14318897 | -1.4602234, 0.4803844, -0.6264879, 2.0981591, -0.1555205       | -0.4510154, 0.8040467, -0.2943782, -0.6763046, -0.8030963      | -0.5699665, -1.2535561, 2.3002971, 0.5722625, 0.3504708        | \n",
       "| 0.2046097                                                     | -0.4851246, -1.3676415, -1.5249722, 0.8968871, -1.3517274     | -0.4607476, 1.4811136, -1.1571055, -1.4621360, -1.0657535     | -0.8202498, -1.0204941, -0.4586710, 0.4665742, 0.8073561      | 1.69396962, -0.22675327, -0.53505930, -1.26878245, 0.03167724 | 0.4160046, -0.2670632, -1.4143935, 1.3232394, 0.8299809       | \n",
       "\n",
       "\n"
      ],
      "text/plain": [
       "     [,1]      [,2]                                                       \n",
       "[1,] 0.2033492 0.97596307, 0.15162986, 1.49073114, 0.04939074, -0.43018409\n",
       "[2,] 0.203501  0.3409891, 0.5480757, 2.0354081, -1.5990050, 1.2842210     \n",
       "[3,] 0.2039327 -0.4921929, 0.5596704, -2.2880588, 0.9115954, -0.3547244   \n",
       "[4,] 0.2042557 1.4298713, -2.2612819, 2.1293359, 0.5231506, -0.2156310    \n",
       "[5,] 0.2043065 0.1604635, 0.4735367, -0.1664596, 1.8497341, -0.5902492    \n",
       "[6,] 0.2046097 -0.4851246, -1.3676415, -1.5249722, 0.8968871, -1.3517274  \n",
       "     [,3]                                                          \n",
       "[1,] 0.2490513, -0.3668392, 0.2801381, -0.6211905, -0.4010516      \n",
       "[2,] -0.6683215, -0.9962549, 0.3738032, 0.9282107, 1.4957200       \n",
       "[3,] -0.6043283, 0.4612238, -0.8304730, -0.3750689, -0.4836119     \n",
       "[4,] 1.1449252, 0.9940431, -0.1207337, -0.6879993, -0.7497205      \n",
       "[5,] 0.64684430, -0.13806687, -0.21981174, -0.01664738, -2.14318897\n",
       "[6,] -0.4607476, 1.4811136, -1.1571055, -1.4621360, -1.0657535     \n",
       "     [,4]                                                              \n",
       "[1,] 1.396161709, -0.960835043, 0.733868761, -0.004301402, -0.034578012\n",
       "[2,] -1.4653373, -0.9875277, -0.3490980, 2.6033322, -3.0116385         \n",
       "[3,] -1.3324006, 0.3606054, 1.3113741, 1.6804546, -0.1882245           \n",
       "[4,] -1.077310037, 0.600160799, 0.450025825, 1.126058706, 0.001919053  \n",
       "[5,] -1.4602234, 0.4803844, -0.6264879, 2.0981591, -0.1555205          \n",
       "[6,] -0.8202498, -1.0204941, -0.4586710, 0.4665742, 0.8073561          \n",
       "     [,5]                                                          \n",
       "[1,] -0.3580763, -0.6112448, -1.4939213, -0.8556414, 3.1020184     \n",
       "[2,] 1.1873208, -1.8096873, -0.8614765, 0.5112874, 0.8775819       \n",
       "[3,] -0.9776334, 0.3075954, -0.4311832, -0.1198652, 0.6742864      \n",
       "[4,] -0.65559077, -1.16904208, 0.55412910, -0.71204248, -0.08090824\n",
       "[5,] -0.4510154, 0.8040467, -0.2943782, -0.6763046, -0.8030963     \n",
       "[6,] 1.69396962, -0.22675327, -0.53505930, -1.26878245, 0.03167724 \n",
       "     [,6]                                                       \n",
       "[1,] 0.7108090, -0.9025279, 0.9401624, 0.6329699, 0.4623659     \n",
       "[2,] 0.7549890, -0.7363418, 0.5359445, 1.5544757, 0.6877708     \n",
       "[3,] 0.03726825, -1.33407938, 1.59735328, 0.07013639, 1.72417425\n",
       "[4,] -0.7054435, -0.1142400, 0.5024900, 1.1079893, 1.4223279    \n",
       "[5,] -0.5699665, -1.2535561, 2.3002971, 0.5722625, 0.3504708    \n",
       "[6,] 0.4160046, -0.2670632, -1.4143935, 1.3232394, 0.8299809    "
      ]
     },
     "metadata": {},
     "output_type": "display_data"
    },
    {
     "data": {
      "text/html": [
       "'matrix'"
      ],
      "text/latex": [
       "'matrix'"
      ],
      "text/markdown": [
       "'matrix'"
      ],
      "text/plain": [
       "[1] \"matrix\""
      ]
     },
     "metadata": {},
     "output_type": "display_data"
    },
    {
     "data": {
      "text/html": [
       "'numeric'"
      ],
      "text/latex": [
       "'numeric'"
      ],
      "text/markdown": [
       "'numeric'"
      ],
      "text/plain": [
       "[1] \"numeric\""
      ]
     },
     "metadata": {},
     "output_type": "display_data"
    }
   ],
   "source": [
    "dim(gene_effects[[1]])\n",
    "dim(evfs)\n",
    "class(evfs)\n",
    "head(evfs)\n",
    "class(gene_effects[[1]])\n",
    "mode(gene_effects[[1]])"
   ]
  },
  {
   "cell_type": "code",
   "execution_count": 20,
   "metadata": {
    "collapsed": false
   },
   "outputs": [
    {
     "ename": "ERROR",
     "evalue": "Error in as.matrix(evfs) %*% as.matrix(gene_effects[[1]]): requires numeric/complex matrix/vector arguments\n",
     "output_type": "error",
     "traceback": [
      "Error in as.matrix(evfs) %*% as.matrix(gene_effects[[1]]): requires numeric/complex matrix/vector arguments\nTraceback:\n"
     ]
    }
   ],
   "source": []
  },
  {
   "cell_type": "code",
   "execution_count": null,
   "metadata": {
    "collapsed": false
   },
   "outputs": [],
   "source": [
    "true_counts <- lapply(c(1:ncells),function(celli){\n",
    "    true_counts <- EVF2TrueCounts(allparams,matched_params,sim_master,evfs[[celli]],gene_effects,bimod)\n",
    "    return(true_counts)\n",
    "})"
   ]
  },
  {
   "cell_type": "code",
   "execution_count": null,
   "metadata": {
    "collapsed": false
   },
   "outputs": [],
   "source": []
  },
  {
   "cell_type": "code",
   "execution_count": null,
   "metadata": {
    "collapsed": true
   },
   "outputs": [],
   "source": [
    "true_counts <- do.call(cbind,true_counts)\n",
    "sampled_counts <- TrueCounts2Dropped(true_counts,alpha,alpha_sd)\n",
    "biased_counts <- Dropped2Biased(sampled_counts,nbins,randseed,gcbias,lenbias,batch,noise)"
   ]
  }
 ],
 "metadata": {
  "anaconda-cloud": {},
  "kernelspec": {
   "display_name": "R",
   "language": "R",
   "name": "ir"
  }
 },
 "nbformat": 4,
 "nbformat_minor": 0
}
